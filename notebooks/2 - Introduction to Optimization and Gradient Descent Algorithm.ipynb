{
 "cells": [
  {
   "cell_type": "markdown",
   "id": "532ab71b-d4cc-4518-9efb-c5c29b92e087",
   "metadata": {},
   "source": [
    "# 2 - Introduction to Optimization and the Gradient Descent Algorithm"
   ]
  },
  {
   "cell_type": "markdown",
   "id": "93fa7e54-4988-4540-b41f-bb5ac3ac5343",
   "metadata": {},
   "source": [
    "## How a machine learns"
   ]
  },
  {
   "cell_type": "markdown",
   "id": "55d6d3ad-71a3-4b12-b9ae-cafc025a5b73",
   "metadata": {},
   "source": [
    "Machine learning techniques follow three steps to reach their solution:\n",
    "- **Make a prediction** - this step involves predicting the coefficients in a function. First predictions are typically like random guesses.\n",
    "- **Calculate error** - measure how good the prediction was.\n",
    "- **Learn** - the step where the initial prediction was adjusted. Change the initial prediction based on the error.\n",
    "\n",
    "After the Learn step, the machine loops back to predict using the new coefficients, calculating the errors, and adjust the prediction in the learn step. Repeat and slowly learn to obtain the least amount of error."
   ]
  },
  {
   "cell_type": "code",
   "execution_count": null,
   "id": "ab03a2b6-5250-4240-a466-3ccc0dd82f56",
   "metadata": {},
   "outputs": [],
   "source": []
  }
 ],
 "metadata": {
  "kernelspec": {
   "display_name": "Python 3 (ipykernel)",
   "language": "python",
   "name": "python3"
  },
  "language_info": {
   "codemirror_mode": {
    "name": "ipython",
    "version": 3
   },
   "file_extension": ".py",
   "mimetype": "text/x-python",
   "name": "python",
   "nbconvert_exporter": "python",
   "pygments_lexer": "ipython3",
   "version": "3.12.7"
  }
 },
 "nbformat": 4,
 "nbformat_minor": 5
}
